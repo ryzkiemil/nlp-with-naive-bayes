{
 "cells": [
  {
   "cell_type": "markdown",
   "metadata": {},
   "source": [
    "# BBC Text MultiClass Classification"
   ]
  },
  {
   "cell_type": "code",
   "execution_count": 166,
   "metadata": {},
   "outputs": [],
   "source": [
    "# load packages\n",
    "from sklearn import model_selection, preprocessing, linear_model, naive_bayes, metrics\n",
    "from sklearn.feature_extraction.text import TfidfVectorizer, CountVectorizer,HashingVectorizer\n",
    "from sklearn import decomposition, ensemble\n",
    "from sklearn.decomposition import PCA\n",
    "import matplotlib.pyplot as plt\n",
    "import seaborn as sns\n",
    "import pandas, xgboost, numpy, textblob, string\n",
    "import pandas as pd\n",
    "import numpy as np"
   ]
  },
  {
   "cell_type": "code",
   "execution_count": 167,
   "metadata": {},
   "outputs": [],
   "source": [
    "# load the dataset\n",
    "trainDF = pd.read_csv('E:/emil/code/data/olddataset.csv') # encoding = \"latin\""
   ]
  },
  {
   "cell_type": "code",
   "execution_count": 168,
   "metadata": {},
   "outputs": [
    {
     "name": "stdout",
     "output_type": "stream",
     "text": [
      "5018\n"
     ]
    }
   ],
   "source": [
    "#mengacak data\n",
    "ndata = len(trainDF)\n",
    "def sampel_data(data,n):\n",
    "    return data.sample(frac=1).reset_index(drop=True) # mengacak seluruh data\n",
    "trainDF = sampel_data(trainDF,ndata)\n",
    "print(len(trainDF))"
   ]
  },
  {
   "cell_type": "markdown",
   "metadata": {},
   "source": [
    "## Data preparation"
   ]
  },
  {
   "cell_type": "code",
   "execution_count": 169,
   "metadata": {},
   "outputs": [],
   "source": [
    "def get_label(train_y,valid_y):\n",
    "    train_labels = train_y\n",
    "    valid_labels = valid_y\n",
    "    # label encode the target variable \n",
    "    encoder = preprocessing.LabelEncoder()\n",
    "    train_y = encoder.fit_transform(train_y)\n",
    "    valid_y = encoder.fit_transform(valid_y)\n",
    "    return train_y,valid_y"
   ]
  },
  {
   "cell_type": "markdown",
   "metadata": {},
   "source": [
    "## Feature Extraction"
   ]
  },
  {
   "cell_type": "markdown",
   "metadata": {},
   "source": [
    "### TF-IDF Vectors"
   ]
  },
  {
   "cell_type": "code",
   "execution_count": 170,
   "metadata": {},
   "outputs": [],
   "source": [
    "def tfidf(text,train_x,valid_x):\n",
    "    tfidf_vect = TfidfVectorizer(analyzer='word', token_pattern=r'\\w{1,}', max_features=50000)\n",
    "    tfidf_vect.fit(text)\n",
    "    xtrain_tfidf =  tfidf_vect.transform(train_x)\n",
    "    xvalid_tfidf =  tfidf_vect.transform(valid_x)\n",
    "    return xtrain_tfidf,xvalid_tfidf"
   ]
  },
  {
   "cell_type": "markdown",
   "metadata": {},
   "source": [
    "### Model Building"
   ]
  },
  {
   "cell_type": "code",
   "execution_count": 171,
   "metadata": {},
   "outputs": [],
   "source": [
    "def train_model(classifier, feature_vector_train, label, feature_vector_valid, is_neural_net=False):\n",
    "    # fit the training dataset on the classifier\n",
    "    classifier.fit(feature_vector_train, label)\n",
    "    \n",
    "    # predict the labels on validation dataset\n",
    "    predictions = classifier.predict(feature_vector_valid)\n",
    "    \n",
    "    if is_neural_net:\n",
    "        predictions = predictions.argmax(axis=-1)\n",
    "    return metrics.accuracy_score(predictions, valid_y)"
   ]
  },
  {
   "cell_type": "markdown",
   "metadata": {},
   "source": [
    "#### Naive Bayes"
   ]
  },
  {
   "cell_type": "code",
   "execution_count": 172,
   "metadata": {
    "scrolled": true
   },
   "outputs": [],
   "source": [
    "from keras.losses import categorical_crossentropy\n",
    "from sklearn.model_selection import KFold"
   ]
  },
  {
   "cell_type": "code",
   "execution_count": 173,
   "metadata": {},
   "outputs": [],
   "source": [
    "text = trainDF['text']\n",
    "label = trainDF['category']"
   ]
  },
  {
   "cell_type": "code",
   "execution_count": 174,
   "metadata": {},
   "outputs": [],
   "source": [
    "num_folds = 10\n",
    "kfold = KFold(n_splits=num_folds, shuffle=True)\n",
    "fold_no = 1\n",
    "akurasi = []\n",
    "\n",
    "for train, test in kfold.split(text, label):\n",
    "    train_y,valid_y = get_label(label[train],label[test])\n",
    "    xtrain_tfidf,xvalid_tfidf = tfidf(trainDF['text'],text[train],text[test])\n",
    "    accuracy = train_model(naive_bayes.MultinomialNB(), xtrain_tfidf, train_y, xvalid_tfidf)\n",
    "    akurasi.append(accuracy)\n",
    "    \n",
    "    # Increase fold number\n",
    "    fold_no = fold_no + 1"
   ]
  },
  {
   "cell_type": "code",
   "execution_count": 175,
   "metadata": {},
   "outputs": [
    {
     "name": "stdout",
     "output_type": "stream",
     "text": [
      "------------------------------------------------------------------------\n",
      "Score per fold\n",
      "------------------------------------------------------------------------\n",
      "> Fold 1 - Akurasi: 0.7589641434262948%\n",
      "------------------------------------------------------------------------\n",
      "> Fold 2 - Akurasi: 0.7091633466135459%\n",
      "------------------------------------------------------------------------\n",
      "> Fold 3 - Akurasi: 0.7529880478087649%\n",
      "------------------------------------------------------------------------\n",
      "> Fold 4 - Akurasi: 0.7908366533864541%\n",
      "------------------------------------------------------------------------\n",
      "> Fold 5 - Akurasi: 0.8067729083665338%\n",
      "------------------------------------------------------------------------\n",
      "> Fold 6 - Akurasi: 0.7470119521912351%\n",
      "------------------------------------------------------------------------\n",
      "> Fold 7 - Akurasi: 0.8087649402390438%\n",
      "------------------------------------------------------------------------\n",
      "> Fold 8 - Akurasi: 0.7410358565737052%\n",
      "------------------------------------------------------------------------\n",
      "> Fold 9 - Akurasi: 0.7784431137724551%\n",
      "------------------------------------------------------------------------\n",
      "> Fold 10 - Akurasi: 0.7784431137724551%\n",
      "------------------------------------------------------------------------\n",
      "Average scores for all folds:\n",
      "> Accuracy: 0.7672424076150487 (+- 0.02972428246058104)\n",
      "------------------------------------------------------------------------\n"
     ]
    }
   ],
   "source": [
    "# == meanmpilkan akurasi tiap fold dan rata-rata seluruhnya ==\n",
    "print('------------------------------------------------------------------------')\n",
    "print('Score per fold')\n",
    "for i in range(0, len(akurasi)):\n",
    "    print('------------------------------------------------------------------------')\n",
    "    print(f'> Fold {i+1} - Akurasi: {akurasi[i]}%')\n",
    "print('------------------------------------------------------------------------')\n",
    "print('Average scores for all folds:')\n",
    "print(f'> Accuracy: {np.mean(akurasi)} (+- {np.std(akurasi)})')\n",
    "print('------------------------------------------------------------------------')"
   ]
  }
 ],
 "metadata": {
  "kernelspec": {
   "display_name": "Python 3",
   "language": "python",
   "name": "python3"
  },
  "language_info": {
   "codemirror_mode": {
    "name": "ipython",
    "version": 3
   },
   "file_extension": ".py",
   "mimetype": "text/x-python",
   "name": "python",
   "nbconvert_exporter": "python",
   "pygments_lexer": "ipython3",
   "version": "3.6.12"
  }
 },
 "nbformat": 4,
 "nbformat_minor": 4
}
